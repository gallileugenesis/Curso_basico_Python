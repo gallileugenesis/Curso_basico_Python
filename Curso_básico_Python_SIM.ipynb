{
 "cells": [
  {
   "cell_type": "markdown",
   "metadata": {
    "id": "g8u_pWnGITjU"
   },
   "source": [
    "![picture](https://logos-world.net/wp-content/uploads/2021/10/Python-Logo.png)"
   ]
  },
  {
   "cell_type": "markdown",
   "metadata": {
    "id": "8thdWv-7ITjY"
   },
   "source": [
    "# Curso básico de Python\n",
    "Prof. Gallileu Genesis"
   ]
  },
  {
   "cell_type": "markdown",
   "metadata": {
    "id": "1NJ26DSmITjY"
   },
   "source": [
    "### Tópicos:\n",
    "\n",
    "#### 1 - Introdução ao Python:\n",
    "- O que é Python\n",
    "- Aplicações\n",
    "- Ferramentas de desenvolvimento\n",
    "- Instalação do Python e ambiente de desenvolvimento\n",
    "- Executando o primeiro programa em Python\n",
    "\n",
    "#### 2 - Tipos de dados e variáveis:\n",
    "- Tipos de dados em Python (números, strings, booleanos)\n",
    "- Declaração de variáveis\n",
    "- Operações com variáveis\n",
    "- Exercícios\n",
    "\n",
    "#### 3 - Estruturas de controle de fluxo:\n",
    "- Estruturas Condicionais (if/else)\n",
    "- Estruturas de Repetição (for, while)\n",
    "- Instruções de controle de fluxo (break, continue)\n",
    "- Exercícios\n",
    "\n",
    "#### 4 - Estruturas de dados:\n",
    "- Listas\n",
    "- Acesso e manipulação de elementos em Listas\n",
    "- Tuplas\n",
    "- Acesso e manipulação de elementos em Tuplas\n",
    "- Dicionários\n",
    "- Acesso e manipulação de elementos em dicionários\n",
    "- Exercícios"
   ]
  },
  {
   "cell_type": "markdown",
   "metadata": {
    "id": "GXZoSCZDITjZ"
   },
   "source": [
    "## 1 - Introdução ao Python"
   ]
  },
  {
   "cell_type": "markdown",
   "metadata": {
    "id": "wF-qo2vqITjZ"
   },
   "source": [
    "### 1.1 - O que é Python:\n",
    "\n",
    "Python é uma linguagem de programação de alto nível, interpretada, orientada a objetos e multiplataforma.\n",
    "\n",
    "- **Linguagem de Programação de Alto Nível:** Significa que a linguagem foi projetada com um alto nível de abstração, tornando-a mais próxima da linguagem humana e permitindo que os desenvolvedores expressem suas ideias de maneira mais clara e concisa. Linguagens de alto nível geralmente têm uma sintaxe mais amigável e oferecem construções de alto nível para lidar com tarefas complexas.\n",
    "\n",
    "- **Interpretada**: Uma linguagem interpretada é aquela em que o código-fonte é executado diretamente por um interpretador, que é um programa que lê o código linha por linha e o executa em tempo real. Isso é diferente de uma linguagem compilada, onde o código-fonte é transformado em código de máquina (ou bytecode) antes da execução.\n",
    "\n",
    "- **Orientada a Objetos**: Refere-se a um paradigma de programação onde o código é organizado em objetos, que são entidades que encapsulam dados e comportamentos relacionados. A programação orientada a objetos (POO) permite que os desenvolvedores criem abstrações mais significativas, facilitando a reutilização de código e a manutenção do software.\n",
    "\n",
    "- **Multiplataforma**: Significa que a linguagem pode ser executada em diferentes plataformas de hardware ou sistemas operacionais sem a necessidade de grandes modificações. Isso é alcançado através do uso de ambientes de execução (como máquinas virtuais ou interpretadores) que permitem que o código seja executado em ambientes diferentes, desde que o ambiente de execução esteja disponível para a plataforma específica."
   ]
  },
  {
   "cell_type": "markdown",
   "metadata": {
    "id": "Jf7WRH6GITja"
   },
   "source": [
    "### 1.2 - Aplicações:\n",
    "\n",
    "Python é uma linguagem de programação versátil e amplamente utilizada em várias aplicações:\n",
    "\n",
    "- **Inteligência Artificial e Aprendizado de Máquina:** Python é uma das principais linguagens usadas em projetos de IA e ML, com bibliotecas como *TensorFlow*, *Keras* e *PyTorch* permitindo a criação de modelos complexos de aprendizado de máquina e redes neurais.\n",
    "\n",
    "- **Análise e ciência de dados:** Python é uma escolha comum para análise e manipulação de dados devido às bibliotecas poderosas, como *Pandas* e *NumPy*, além de ferramentas para visualização de dados, como *Matplotlib* e *Seaborn*.\n",
    "\n",
    "- **Internet das Coisas (IoT):** Python é uma escolha popular para projetos de IoT devido à sua facilidade de integração com dispositivos e sensores.\n",
    "\n",
    "- **Desenvolvimento de aplicações científicas:** Python é amplamente usado em aplicações científicas para resolver problemas complexos, simulação e modelagem matemática.\n",
    "\n",
    "- **Desenvolvimento web**: Python é muito popular para criar aplicativos web, devido a frameworks como *Django* e *Flask*, que permitem o desenvolvimento rápido e eficiente de aplicações web robustas e escaláveis.\n",
    "\n",
    "- **Automação e scripts**: Python é frequentemente usado para escrever *scripts* e automatizar tarefas repetitivas no sistema operacional, tornando-o uma excelente escolha para administração de sistemas e tarefas de rotina.\n",
    "\n",
    "- **Desenvolvimento de jogos:** Python pode ser usado para o desenvolvimento de jogos com a ajuda de bibliotecas como *Pygame*, que fornecem funcionalidades de gráficos e interação com o usuário.\n",
    "\n",
    "- **Desenvolvimento de aplicativos de desktop:** Python pode ser usado para desenvolver aplicativos de desktop com interfaces gráficas usando ferramentas como *Tkinter*, *PyQT ou WXPython*."
   ]
  },
  {
   "cell_type": "markdown",
   "metadata": {
    "id": "rOHuJyxnITjb"
   },
   "source": [
    "### 1.3 - Ferramentas de desenvolvimento\n",
    "\n",
    "Temos várias opções quando se trata de escolher onde desenvolver nossos códigos Python. As opções variam de *ambientes de desenvolvimento integrado (IDEs)* a *editores de código e ambientes interativos*. Cada opção possui suas próprias vantagens e recursos, e a escolha dependerá das preferências pessoais do desenvolvedor e das necessidades específicas do projeto.\n",
    "\n",
    "IDEs:\n",
    "- **PyCharm:** desenvolvido pela JetBrains, é uma das IDEs mais poderosas e completas para o desenvolvimento Python. Disponível em uma edição Community gratuita e em uma edição Professional paga, o PyCharm oferece recursos avançados, como edição de código inteligente, depuração integrada, suporte a frameworks populares, gerenciamento de projetos e muito mais.\n",
    "\n",
    "- **Visual Studio Code (VS Code):** desenvolvido pela Microsoft, é um editor de código leve, altamente customizável e amplamente utilizado pela comunidade Python. Com uma grande variedade de extensões disponíveis, o VS Code pode ser adaptado para atender às necessidades específicas do desenvolvedor, incluindo suporte para Python, depuração e integração com sistemas de controle de versão.\n",
    "\n",
    "- **Spyder:** é uma IDE projetada especificamente para análise de dados e ciência de dados em Python. Ele oferece recursos como edição de código, console interativo e visualização de variáveis, tornando-o ideal para tarefas de análise e manipulação de dados.\n",
    "\n",
    "- **IDLE:** é um ambiente de desenvolvimento padrão incluído na distribuição oficial do Python. Embora seja uma opção mais básica em comparação com as IDEs mencionadas acima, o IDLE oferece recursos de edição de código e um console interativo para testar código rapidamente.\n",
    "\n",
    "Ambientes interativos:\n",
    "- **Jupyter Notebook:** é uma aplicação web interativa que permite criar documentos interativos chamados notebooks. Amplamente utilizado na área de ciência de dados e análise de dados, o Jupyter Notebook permite combinar código Python, texto formatado e visualizações em um único documento.\n",
    "\n",
    "- **Google Colab (Google Colaboratory):** é um serviço gratuito baseado em nuvem que permite criar e executar notebooks do Jupyter diretamente no navegador. É uma opção popular para desenvolver códigos Python, especialmente para projetos de aprendizado de máquina e ciência de dados. O Colab oferece acesso gratuito a recursos de computação na nuvem e a diversas bibliotecas populares de Python pré-instaladas, tornando-o uma escolha conveniente para experimentar algoritmos de aprendizado de máquina e realizar análise de dados de maneira colaborativa."
   ]
  },
  {
   "cell_type": "markdown",
   "metadata": {
    "id": "rD9RNpFoITjb"
   },
   "source": [
    "### 1.4 - Instalação do Python e ambiente de desenvolvimento:\n",
    "\n",
    "Existem várias opções para instalar o Python em seu computador, mas uma das mais populares é a distribuição Anaconda, que inclui o Python e outras bibliotecas populares para ciência de dados e aprendizado de máquina. O ambiente de desenvolvimento mais comumente usado para Python é o IDLE (Integrated Development and Learning Environment), que é uma interface gráfica de usuário para escrever e executar código Python.\n",
    "\n",
    "##### Instalando o Python pela página oficial:\n",
    "\n",
    "    1 - Acesse o site oficial do Python em https://www.python.org/downloads/\n",
    "\n",
    "    2 - Clique no botão \"Download\" na página inicial.\n",
    "    Selecione a versão mais recente do Python e o sistema operacional correspondente. Por exemplo, para Windows, clique em \"Windows\" e, em seguida, na versão mais recente do Python.\n",
    "    3 - Baixe o instalador do Python e salve-o em seu computador.\n",
    "    4 - Execute o arquivo baixado e siga as instruções do instalador. Certifique-se de marcar a opção \"Add Python to PATH\" durante a instalação para que o Python possa ser facilmente acessado a partir do prompt de comando ou de qualquer outro ambiente de desenvolvimento.\n",
    "    5 - Depois de concluir a instalação, abra o prompt de comando e digite python --version para verificar se o Python foi instalado corretamente. Você deve ver a versão do Python que acabou de instalar.\n",
    "    \n",
    "##### Instalando o Python com Anaconda\n",
    "    1 - O Anaconda é uma distribuição de Python popular para ciência de dados e aprendizado de máquina, que inclui muitas bibliotecas e ferramentas populares. Aqui está como instalar o Python com Anaconda:\n",
    "\n",
    "    2 - Baixe o instalador do Anaconda em https://www.anaconda.com/products/individual\n",
    "    3 - Selecione a versão mais recente do Anaconda para o seu sistema operacional e baixe o instalador.\n",
    "    4 - Execute o arquivo baixado e siga as instruções do instalador.\n",
    "    5 - Durante a instalação, certifique-se de marcar as opções \"Add Anaconda to my PATH environment variable\" e \"Register Anaconda as my default Python\" para garantir que o Anaconda seja facilmente acessado e configurado como seu ambiente de desenvolvimento padrão.\n",
    "    \n",
    "Depois de concluir a instalação, abra o Anaconda Navigator (ou use o prompt de comando) para acessar o ambiente de desenvolvimento do Python e começar a programar.\n",
    "Com o Python e o ambiente de desenvolvimento instalados corretamente, você está pronto para começar a programar em Python!"
   ]
  },
  {
   "cell_type": "markdown",
   "metadata": {
    "id": "4SqNLWITITjc"
   },
   "source": [
    "### 1.5 - Executando o primeiro programa em Python:\n",
    "\n",
    "O código Python mais simples é uma declaração \"print\" que imprime uma mensagem na tela. Aqui está um exemplo:"
   ]
  },
  {
   "cell_type": "code",
   "execution_count": null,
   "metadata": {
    "colab": {
     "base_uri": "https://localhost:8080/"
    },
    "executionInfo": {
     "elapsed": 309,
     "status": "ok",
     "timestamp": 1690238435795,
     "user": {
      "displayName": "Gallileu Genesis",
      "userId": "10784296989533502530"
     },
     "user_tz": 180
    },
    "id": "apYmkq4yITjc",
    "outputId": "4de68bf2-4abc-4c4d-c4ae-bd39638a99b9"
   },
   "outputs": [],
   "source": []
  },
  {
   "cell_type": "markdown",
   "metadata": {
    "id": "K9jCcAaKITjd"
   },
   "source": [
    "**Nota:** Linhas iniciadas com # são comentários, que são ignorados pelo Python e servem para explicar o código."
   ]
  },
  {
   "cell_type": "code",
   "execution_count": null,
   "metadata": {
    "colab": {
     "base_uri": "https://localhost:8080/"
    },
    "executionInfo": {
     "elapsed": 302,
     "status": "ok",
     "timestamp": 1690239075273,
     "user": {
      "displayName": "Gallileu Genesis",
      "userId": "10784296989533502530"
     },
     "user_tz": 180
    },
    "id": "xqkAEGbsITjd",
    "outputId": "851b2d80-0b96-4573-857d-cd6418af8b24"
   },
   "outputs": [],
   "source": []
  },
  {
   "cell_type": "markdown",
   "metadata": {
    "id": "Kiyyd7-wITjd"
   },
   "source": [
    "## 2 - Tipos de dados e variáveis:"
   ]
  },
  {
   "cell_type": "markdown",
   "metadata": {
    "id": "mNButVh5ITjd"
   },
   "source": [
    "Tecnicamente, podemos definir uma variável como sendo um identificador de um valor dentro da memória do computador. Se você preferir, pode imaginar uma variável como uma \"caixa de memória\" na qual é guardado algum valor. E que são esses valores? São os dados, informações que são armazenadas e manipuladas em um programa."
   ]
  },
  {
   "cell_type": "markdown",
   "metadata": {
    "id": "F-IbkUWtITjd"
   },
   "source": [
    "### 2.1 - Tipos de dados em Python:\n",
    "\n",
    "- **Numéricos:** Em Python, existem dois tipos principais de dados numéricos, inteiros (*int*) e de ponto flutuante (*float*). Inteiros são números inteiros positivos ou negativos, enquanto números de ponto flutuante são números reais com um ponto decimal.\n",
    "\n",
    "Exemplos:"
   ]
  },
  {
   "cell_type": "code",
   "execution_count": null,
   "metadata": {
    "id": "55BGkhiIITjd"
   },
   "outputs": [],
   "source": []
  },
  {
   "cell_type": "code",
   "execution_count": null,
   "metadata": {
    "colab": {
     "base_uri": "https://localhost:8080/"
    },
    "executionInfo": {
     "elapsed": 268,
     "status": "ok",
     "timestamp": 1690239132620,
     "user": {
      "displayName": "Gallileu Genesis",
      "userId": "10784296989533502530"
     },
     "user_tz": 180
    },
    "id": "ALBFTJBDE2IN",
    "outputId": "f290a28d-b25f-40b2-a30c-1551d9a2da4e"
   },
   "outputs": [],
   "source": []
  },
  {
   "cell_type": "markdown",
   "metadata": {
    "id": "sf69IkPXITjd"
   },
   "source": [
    "- **Strings:** Strings são sequências de caracteres. Em Python, eles são definidos entre aspas simples ou duplas.\n",
    "\n",
    "Exemplos:"
   ]
  },
  {
   "cell_type": "code",
   "execution_count": null,
   "metadata": {
    "id": "_aUPnOMvITjd"
   },
   "outputs": [],
   "source": []
  },
  {
   "cell_type": "code",
   "execution_count": null,
   "metadata": {
    "colab": {
     "base_uri": "https://localhost:8080/"
    },
    "executionInfo": {
     "elapsed": 277,
     "status": "ok",
     "timestamp": 1690239234880,
     "user": {
      "displayName": "Gallileu Genesis",
      "userId": "10784296989533502530"
     },
     "user_tz": 180
    },
    "id": "Pk8zm8ADGyzP",
    "outputId": "49eeddb8-7694-4519-f71e-94b594dd59c4"
   },
   "outputs": [],
   "source": []
  },
  {
   "cell_type": "markdown",
   "metadata": {
    "id": "a3FmVO4zITje"
   },
   "source": [
    "- **Booleanos:** Booleanos são valores lógicos que podem ser verdadeiros (True) ou falsos (False).\n",
    "\n",
    "Exemplos:"
   ]
  },
  {
   "cell_type": "code",
   "execution_count": null,
   "metadata": {
    "id": "OVjCZhG-ITje"
   },
   "outputs": [],
   "source": []
  },
  {
   "cell_type": "code",
   "execution_count": null,
   "metadata": {
    "colab": {
     "base_uri": "https://localhost:8080/"
    },
    "executionInfo": {
     "elapsed": 294,
     "status": "ok",
     "timestamp": 1690239345655,
     "user": {
      "displayName": "Gallileu Genesis",
      "userId": "10784296989533502530"
     },
     "user_tz": 180
    },
    "id": "dtj4f1ccHW-_",
    "outputId": "c05d232a-a191-481f-b85f-0031569c8aad"
   },
   "outputs": [],
   "source": []
  },
  {
   "cell_type": "markdown",
   "metadata": {
    "id": "iy7HlQ6IITje"
   },
   "source": [
    "### 2.2 - Declaração de variáveis:\n",
    "\n",
    "Em Python, as variáveis são declaradas atribuindo um valor a um nome. O nome da variável pode ser qualquer combinação de letras, números e sublinhados, **desde que comece com uma letra**. Uma vez declarada, a variável pode ser chamada no programa sempre que necessitarmos acessar seu valor.\n",
    "\n",
    "Exemplos:"
   ]
  },
  {
   "cell_type": "code",
   "execution_count": null,
   "metadata": {
    "id": "cEYoyQxWITje"
   },
   "outputs": [],
   "source": []
  },
  {
   "cell_type": "markdown",
   "metadata": {
    "id": "0xHWNHESITje"
   },
   "source": [
    "**Nota:** Não podemos declarar uma variável cujo nome comece com um número. Isso gera um **erro de sintaxe**."
   ]
  },
  {
   "cell_type": "code",
   "execution_count": null,
   "metadata": {
    "colab": {
     "base_uri": "https://localhost:8080/",
     "height": 130
    },
    "executionInfo": {
     "elapsed": 304,
     "status": "error",
     "timestamp": 1690239443433,
     "user": {
      "displayName": "Gallileu Genesis",
      "userId": "10784296989533502530"
     },
     "user_tz": 180
    },
    "id": "XC-N2AvSITje",
    "outputId": "702f806b-a07d-4295-8cca-eb2bccbd4000"
   },
   "outputs": [],
   "source": []
  },
  {
   "cell_type": "code",
   "execution_count": null,
   "metadata": {
    "colab": {
     "base_uri": "https://localhost:8080/"
    },
    "executionInfo": {
     "elapsed": 270,
     "status": "ok",
     "timestamp": 1690239556251,
     "user": {
      "displayName": "Gallileu Genesis",
      "userId": "10784296989533502530"
     },
     "user_tz": 180
    },
    "id": "fIXMlLgfIC4c",
    "outputId": "9765a655-823e-4f3a-ade1-8e53cf7dc232"
   },
   "outputs": [],
   "source": []
  },
  {
   "cell_type": "code",
   "execution_count": null,
   "metadata": {
    "colab": {
     "base_uri": "https://localhost:8080/",
     "height": 130
    },
    "executionInfo": {
     "elapsed": 14,
     "status": "error",
     "timestamp": 1690323606541,
     "user": {
      "displayName": "Gallileu Genesis",
      "userId": "10784296989533502530"
     },
     "user_tz": 180
    },
    "id": "x2B13-qqIymO",
    "outputId": "5e0a4daf-6f9a-4227-dd23-775c37a26abe"
   },
   "outputs": [],
   "source": []
  },
  {
   "cell_type": "markdown",
   "metadata": {
    "id": "V_zAQae1ITje"
   },
   "source": [
    "### 2.3 - Operações com variáveis:\n",
    "\n",
    "As variáveis em Python podem ser usadas em várias operações matemáticas e lógicas."
   ]
  },
  {
   "cell_type": "markdown",
   "metadata": {
    "id": "If2XaDx8ITje"
   },
   "source": [
    "#### 2.3.1 - Operações matemáticas:"
   ]
  },
  {
   "cell_type": "code",
   "execution_count": null,
   "metadata": {
    "id": "O08xeBP6ITje"
   },
   "outputs": [],
   "source": []
  },
  {
   "cell_type": "code",
   "execution_count": null,
   "metadata": {
    "id": "YaxvniJSITje"
   },
   "outputs": [],
   "source": []
  },
  {
   "cell_type": "code",
   "execution_count": null,
   "metadata": {
    "colab": {
     "base_uri": "https://localhost:8080/"
    },
    "executionInfo": {
     "elapsed": 273,
     "status": "ok",
     "timestamp": 1690239982754,
     "user": {
      "displayName": "Gallileu Genesis",
      "userId": "10784296989533502530"
     },
     "user_tz": 180
    },
    "id": "LZyw_pluITje",
    "outputId": "ce0f59f7-a516-4922-8090-09e9ac444f69",
    "scrolled": false
   },
   "outputs": [],
   "source": []
  },
  {
   "cell_type": "markdown",
   "metadata": {
    "id": "vHc-o_NuITjf"
   },
   "source": [
    "**Nota:** Em python, o operador igual (=) não possui o mesmo significado e comportamento que na matemática. Na matemática, ele é um operador bidirecional: A = B seria a mesma coisa que B = A. No Python, ele é o que chamamos de um operador de **ATRIBUIÇÃO:** A variável da esquerda apenas armazena o valor da direita. Em outras palavras, o valor da direita é atribuido a variável à esquerda."
   ]
  },
  {
   "cell_type": "markdown",
   "metadata": {
    "id": "LdCMiheaITjf"
   },
   "source": [
    "#### 2.3.2 - Operações lógicas e relacionais:\n",
    "\n",
    "Operadores lógicos e relacionais são usados para realizar diferentes tipos de comparações entre valores."
   ]
  },
  {
   "cell_type": "markdown",
   "metadata": {
    "id": "JoxOpZ55ITjf"
   },
   "source": [
    "Os operadores relacionais são usados para comparar valores e retornar um valor booleano (true ou false) com base na relação entre eles.\n",
    "\n",
    "Em Python existem 6 operadores relacionais:\n",
    "\n",
    "- **Maior que: >**\n",
    "- **Maior ou igual: >=**\n",
    "- **Menor que: <**\n",
    "- **Menor ou igual: <=**\n",
    "- **Igual: ==**\n",
    "- **Diferente: !=**"
   ]
  },
  {
   "cell_type": "markdown",
   "metadata": {
    "id": "wlp4KNA3ITjf"
   },
   "source": [
    "**Nota:** Observe que o operador que compara se 2 valores são iguais é **==**, e não **=**. Isso ocorre porque o operador = é o nosso operador de **atribuição:** ele diz que a variável à sua esquerda deve receber o valor da expressão à direita. O operador == irá testar se o valor à sua esquerda é igual ao valor à sua direita e irá responder **True** ou **False**, assim como ocorre com todos os outros operadores de comparação."
   ]
  },
  {
   "cell_type": "markdown",
   "metadata": {
    "id": "bjTwwjLsITjf"
   },
   "source": [
    "Os operadores lógicos são usados para avaliar condições booleanas, ou seja, expressões que podem ser verdadeiras ou falsas. Eles são usados para combinar ou inverter condições, e incluem os operadores:\n",
    "\n",
    "- **AND:** retorna verdadeiro (true) se **TODAS** as condições forem verdadeiras, caso contrário, retorna falso (false).\n",
    "- **OR:** retorna verdadeiro (true) se **AO MENOS UMA** das condições for verdadeira, caso contrário, retorna falso (false).\n",
    "- **NOT:** **INVERTE** o resultado booleano de uma certa condição. Retorna true se a condição avaliada for falsa e vice-versa."
   ]
  },
  {
   "cell_type": "code",
   "execution_count": null,
   "metadata": {
    "colab": {
     "base_uri": "https://localhost:8080/"
    },
    "executionInfo": {
     "elapsed": 262,
     "status": "ok",
     "timestamp": 1690240339000,
     "user": {
      "displayName": "Gallileu Genesis",
      "userId": "10784296989533502530"
     },
     "user_tz": 180
    },
    "id": "hbtEOtefITjf",
    "outputId": "56e6ca99-5f7f-406f-a198-ffb3e18de270",
    "scrolled": true
   },
   "outputs": [],
   "source": []
  },
  {
   "cell_type": "code",
   "execution_count": null,
   "metadata": {
    "colab": {
     "base_uri": "https://localhost:8080/"
    },
    "executionInfo": {
     "elapsed": 281,
     "status": "ok",
     "timestamp": 1690240398919,
     "user": {
      "displayName": "Gallileu Genesis",
      "userId": "10784296989533502530"
     },
     "user_tz": 180
    },
    "id": "ysJDfGCzLPtm",
    "outputId": "04a17de6-dd12-4981-d3bb-66c603f8747a"
   },
   "outputs": [],
   "source": []
  },
  {
   "cell_type": "code",
   "execution_count": null,
   "metadata": {
    "colab": {
     "base_uri": "https://localhost:8080/"
    },
    "executionInfo": {
     "elapsed": 257,
     "status": "ok",
     "timestamp": 1690240449811,
     "user": {
      "displayName": "Gallileu Genesis",
      "userId": "10784296989533502530"
     },
     "user_tz": 180
    },
    "id": "wluzUaFwLeH9",
    "outputId": "e0fcf700-dc27-41b7-8cbb-71ca07ee2b93"
   },
   "outputs": [],
   "source": []
  },
  {
   "cell_type": "code",
   "execution_count": null,
   "metadata": {
    "colab": {
     "base_uri": "https://localhost:8080/"
    },
    "executionInfo": {
     "elapsed": 265,
     "status": "ok",
     "timestamp": 1690240491784,
     "user": {
      "displayName": "Gallileu Genesis",
      "userId": "10784296989533502530"
     },
     "user_tz": 180
    },
    "id": "oMNDsnGWLqaY",
    "outputId": "d32b512d-d622-4dff-9d1d-b11a749ba112"
   },
   "outputs": [],
   "source": []
  },
  {
   "cell_type": "markdown",
   "metadata": {
    "id": "niwddQzIITjf"
   },
   "source": [
    "**Nota:** é possível ainda fazer um tipo especial de operação com *strings* utilizando o operador **+**, denominada concatenação. O resultado nada mais é do que a junção de duas ou mais strings em uma única string, como mostra o exemplo abaixo:"
   ]
  },
  {
   "cell_type": "code",
   "execution_count": null,
   "metadata": {
    "colab": {
     "base_uri": "https://localhost:8080/"
    },
    "executionInfo": {
     "elapsed": 275,
     "status": "ok",
     "timestamp": 1690240705165,
     "user": {
      "displayName": "Gallileu Genesis",
      "userId": "10784296989533502530"
     },
     "user_tz": 180
    },
    "id": "eEmmfXoGITjf",
    "outputId": "ee561994-d0b9-4ee6-c4b7-69c3cd1e2788",
    "scrolled": true
   },
   "outputs": [],
   "source": []
  },
  {
   "cell_type": "markdown",
   "metadata": {
    "id": "te8i14q5ITji"
   },
   "source": [
    "### 2.4 - Exercícios:"
   ]
  },
  {
   "cell_type": "markdown",
   "metadata": {
    "id": "N7GVKAQfITjj"
   },
   "source": [
    "#### Exercício 1:\n",
    "    a) Declare uma variável chamada \"nome_produto\" e atribua a ela uma string com o nome do produto que você deseja comprar.\n",
    "    b) Declare uma variável chamada \"preco_produto\" e atribua a ela o valor numérico do preço do produto que você deseja comprar.\n",
    "    c) Declare uma variável chamada \"quantidade\" e atribua a ela um número inteiro que represente quantos itens desse produto você pretende comprar.\n",
    "    d) Declare uma variável chamada \"total_compra\" e calcule o valor total da compra multiplicando o preço do produto pela quantidade desejada.\n",
    "    e) Utilize a função print() no padrão que temos usado até aqui para mostrar o nome do produto, o valor, a quantidade comprada e valor total da compra."
   ]
  },
  {
   "cell_type": "code",
   "execution_count": null,
   "metadata": {
    "id": "m1egML_EITjj"
   },
   "outputs": [],
   "source": []
  },
  {
   "cell_type": "markdown",
   "metadata": {
    "id": "seRxip7QITjj"
   },
   "source": [
    "#### Exercício 2:\n",
    "    a) Declare uma variável chamada \"saldo\" e atribua a ela um valor numérico que represente o saldo da sua conta bancária.\n",
    "    b) Declare uma variável chamada \"gastos\" e atribua a ela um valor numérico que represente quanto você gastou em uma compra.\n",
    "    c) Atualize o valor da variável \"saldo\" subtraindo o valor da variável \"gastos\".\n",
    "    d) Crie uma variável booleana chamada \"tem_saldo_positivo\" e atribua a ela o valor True se o saldo for maior ou igual a 0, caso contrário, atribua o valor False."
   ]
  },
  {
   "cell_type": "code",
   "execution_count": null,
   "metadata": {
    "id": "rm4ZpBpqITjj"
   },
   "outputs": [],
   "source": []
  },
  {
   "cell_type": "markdown",
   "metadata": {
    "id": "h71NGPWGITjj"
   },
   "source": [
    "#### Exercício 3:\n",
    "    a) Declare uma variável chamada \"frase\" e atribua a ela uma string com uma frase de sua escolha.\n",
    "    b) Crie uma variável chamada \"tamanho_frase\" e calcule o tamanho da string \"frase\" usando a função len().\n",
    "    c) Declare uma variável chamada \"caractere\" e atribua a ela uma letra qualquer da \"frase\".\n",
    "    d) Crie uma variável chamada \"quantidade_caractere\" e conte quantas vezes o \"caractere\" escolhido aparece na \"frase\" usando o método count()."
   ]
  },
  {
   "cell_type": "code",
   "execution_count": null,
   "metadata": {
    "id": "l4jxp5qLITjj"
   },
   "outputs": [],
   "source": []
  },
  {
   "cell_type": "markdown",
   "metadata": {
    "id": "eRXC5X-ZITjj"
   },
   "source": [
    "## 3 - Estruturas de controle de fluxo:\n",
    "\n",
    "As estruturas de controle de fluxo são recursos fundamentais em programação, pois permitem controlar a sequência de execução das instruções em um programa. Elas permitem que você tome decisões e repita ações com base em determinadas condições. Essas estruturas permitem que você crie programas mais flexíveis e dinâmicos, adaptando o comportamento do programa de acordo com as condições e requisitos específicos. Combinando essas estruturas de maneira adequada, é possível construir algoritmos complexos e resolver uma ampla variedade de problemas de programação.\n",
    "\n",
    "Existem três principais estruturas de controle de fluxo:"
   ]
  },
  {
   "cell_type": "markdown",
   "metadata": {
    "id": "VGf0tXj-ITjj"
   },
   "source": [
    "### 3.1 - Estruturas Condicionais\n",
    "\n",
    "As instruções condicionais permitem que você tome decisões com base em condições específicas. A estrutura mais comum é o \"if-else\" (se-senão), que avalia uma condição e executa um bloco de código se a condição for verdadeira e outro bloco se a condição for falsa. Também existe a estrutura \"if-elif-else\" (se-senão se-senão), que permite avaliar múltiplas condições sequencialmente."
   ]
  },
  {
   "cell_type": "markdown",
   "metadata": {
    "id": "JAM6mYPKITjk"
   },
   "source": [
    "#### 3.1.1 if/else:\n",
    "A estrutura if/else é usada para testar uma condição e executar diferentes blocos de código, dependendo se a condição é verdadeira ou falsa. No caso do if, queremos que o programa execute um código se uma dada condição for atendida. Já se estamos interessados que o programa escolha entre 2 casos mutuamente exclusivos, utilizamos o if e o else conjuntamente. O else não possui condição para verificar e sempre vem imediatamente após um if e é executado se o if for ignorado.\n",
    "\n",
    "A sintaxe básica é a seguinte:"
   ]
  },
  {
   "cell_type": "code",
   "execution_count": null,
   "metadata": {
    "colab": {
     "base_uri": "https://localhost:8080/"
    },
    "executionInfo": {
     "elapsed": 441,
     "status": "ok",
     "timestamp": 1690241154220,
     "user": {
      "displayName": "Gallileu Genesis",
      "userId": "10784296989533502530"
     },
     "user_tz": 180
    },
    "id": "GtYJXwReN2Kp",
    "outputId": "f1f3bb1c-14ba-4b09-a495-bc369fc545c1"
   },
   "outputs": [],
   "source": []
  },
  {
   "cell_type": "code",
   "execution_count": null,
   "metadata": {
    "id": "hdvDY_0ROX9H"
   },
   "outputs": [],
   "source": []
  },
  {
   "cell_type": "code",
   "execution_count": null,
   "metadata": {
    "colab": {
     "base_uri": "https://localhost:8080/"
    },
    "executionInfo": {
     "elapsed": 273,
     "status": "ok",
     "timestamp": 1690241262430,
     "user": {
      "displayName": "Gallileu Genesis",
      "userId": "10784296989533502530"
     },
     "user_tz": 180
    },
    "id": "gV9VH-Q0Ohnb",
    "outputId": "1332ea3d-9d55-49b8-eea8-167125e0d75a"
   },
   "outputs": [],
   "source": []
  },
  {
   "cell_type": "code",
   "execution_count": null,
   "metadata": {
    "colab": {
     "base_uri": "https://localhost:8080/"
    },
    "executionInfo": {
     "elapsed": 271,
     "status": "ok",
     "timestamp": 1690241354615,
     "user": {
      "displayName": "Gallileu Genesis",
      "userId": "10784296989533502530"
     },
     "user_tz": 180
    },
    "id": "v6-soLiMO2eQ",
    "outputId": "547e05fa-41f7-49c1-dbd5-27b2b1d7742d"
   },
   "outputs": [],
   "source": []
  },
  {
   "cell_type": "code",
   "execution_count": null,
   "metadata": {
    "colab": {
     "base_uri": "https://localhost:8080/"
    },
    "executionInfo": {
     "elapsed": 268,
     "status": "ok",
     "timestamp": 1690241373304,
     "user": {
      "displayName": "Gallileu Genesis",
      "userId": "10784296989533502530"
     },
     "user_tz": 180
    },
    "id": "pYkM5IYQPHa_",
    "outputId": "b8038f68-d47f-4d89-c17b-50edf8502ea2"
   },
   "outputs": [],
   "source": []
  },
  {
   "cell_type": "markdown",
   "metadata": {
    "id": "L8BxJ0wTITjk"
   },
   "source": [
    "Por exemplo, suponha que queremos escrever um código que verifica se um número é positivo ou negativo:"
   ]
  },
  {
   "cell_type": "code",
   "execution_count": null,
   "metadata": {
    "colab": {
     "base_uri": "https://localhost:8080/"
    },
    "executionInfo": {
     "elapsed": 3441,
     "status": "ok",
     "timestamp": 1690241717067,
     "user": {
      "displayName": "Gallileu Genesis",
      "userId": "10784296989533502530"
     },
     "user_tz": 180
    },
    "id": "XifRtSxTITjk",
    "outputId": "3bf5c9c1-554a-4cc0-9ec9-908bc4e1e530",
    "scrolled": true
   },
   "outputs": [],
   "source": []
  },
  {
   "cell_type": "markdown",
   "metadata": {
    "id": "9vOCowftITjk"
   },
   "source": [
    "**Nota:** Utilizamos um 'tab' antes de cada linha pertencente ao if. Esse processo é chamado de \"indentação\", cujo objetivo é melhorar a legibilidade e organização do código."
   ]
  },
  {
   "cell_type": "markdown",
   "metadata": {
    "id": "0F91GJKnITjk"
   },
   "source": [
    "É possível encadear diversos if's e else's, como mostra o programa abaixo:"
   ]
  },
  {
   "cell_type": "code",
   "execution_count": null,
   "metadata": {
    "colab": {
     "base_uri": "https://localhost:8080/"
    },
    "executionInfo": {
     "elapsed": 13531,
     "status": "ok",
     "timestamp": 1690242316543,
     "user": {
      "displayName": "Gallileu Genesis",
      "userId": "10784296989533502530"
     },
     "user_tz": 180
    },
    "id": "TQdPwmDBITjk",
    "outputId": "08c2b46f-5097-498b-afe6-b0e91dd2373a"
   },
   "outputs": [],
   "source": []
  },
  {
   "cell_type": "markdown",
   "metadata": {
    "id": "6hvjrk1eITjk"
   },
   "source": [
    "Por fim, podemos testar diversos casos mutuamente exclusivos utilizando o 'elif'.\n",
    "\n",
    "O comando elif é a contração de \"else if\" - ou seja, caso um if não seja executado, você pode propor uma nova condição para ser testada."
   ]
  },
  {
   "cell_type": "code",
   "execution_count": null,
   "metadata": {
    "colab": {
     "base_uri": "https://localhost:8080/"
    },
    "executionInfo": {
     "elapsed": 2645,
     "status": "ok",
     "timestamp": 1690242725570,
     "user": {
      "displayName": "Gallileu Genesis",
      "userId": "10784296989533502530"
     },
     "user_tz": 180
    },
    "id": "BoP4jKLVITjk",
    "outputId": "b568dc50-00d7-481f-9bd7-5b1a43f7ce3f"
   },
   "outputs": [],
   "source": [
    "\n"
   ]
  },
  {
   "cell_type": "code",
   "execution_count": null,
   "metadata": {
    "id": "aDrM-V_mUcQn"
   },
   "outputs": [],
   "source": []
  },
  {
   "cell_type": "markdown",
   "metadata": {
    "id": "_XRilQCiITjl"
   },
   "source": [
    "A vantagem de usar a estrutura elif é a possibilidade de verificar múltiplas condições de forma mais concisa e eficiente.\n",
    "\n",
    "Ao usar uma série de instruções if independentes, todas as condições são verificadas, mesmo que uma delas já tenha sido satisfeita. Isso pode resultar em um desperdício de recursos computacionais, especialmente quando há muitas condições a serem verificadas.\n",
    "\n",
    "Por outro lado, o uso do elif permite que o programa verifique as condições em sequência e execute apenas o bloco de código correspondente à primeira condição verdadeira encontrada. Isso significa que assim que uma condição for satisfeita, as condições subsequentes serão ignoradas.\n",
    "\n",
    "Essa abordagem economiza tempo de processamento, pois o programa não precisa verificar todas as condições se a primeira já for verdadeira. Além disso, torna o código mais legível e organizado, especialmente quando há uma lógica complexa com várias condições a serem avaliadas."
   ]
  },
  {
   "cell_type": "markdown",
   "metadata": {
    "id": "f43M2tDvITjl"
   },
   "source": [
    "### 3.2 Estruturas de Repetição\n",
    "\n",
    "Os loops permitem que você repita a execução de um bloco de código várias vezes. Existem dois tipos principais de loops: \"while\" (enquanto) e \"for\". O loop \"while\" repete o bloco de código enquanto uma determinada condição for verdadeira. O loop \"for\" é usado para iterar sobre uma sequência de elementos, como uma lista, e executar o bloco de código para cada elemento da sequência."
   ]
  },
  {
   "cell_type": "markdown",
   "metadata": {
    "id": "s9CJtj6PITjl"
   },
   "source": [
    "#### 3.2.1 while:\n",
    "\n",
    "A estrutura while é usada para repetir um bloco de código enquanto uma condição é verdadeira. A sintaxe básica é a seguinte:"
   ]
  },
  {
   "cell_type": "markdown",
   "metadata": {
    "id": "eMOJWOXCK4Nw"
   },
   "source": [
    "Por exemplo, suponha que queremos escrever um código que imprime os números de 1 a 10:"
   ]
  },
  {
   "cell_type": "code",
   "execution_count": null,
   "metadata": {
    "colab": {
     "base_uri": "https://localhost:8080/"
    },
    "executionInfo": {
     "elapsed": 287,
     "status": "ok",
     "timestamp": 1690324114353,
     "user": {
      "displayName": "Gallileu Genesis",
      "userId": "10784296989533502530"
     },
     "user_tz": 180
    },
    "id": "r8rDCgk6J9mK",
    "outputId": "694fe7c7-2f39-4038-d4fb-98f1a7d346ea"
   },
   "outputs": [],
   "source": []
  },
  {
   "cell_type": "markdown",
   "metadata": {
    "id": "PggYhfeOITjl"
   },
   "source": [
    "#### 3.2.2 for:\n",
    "\n",
    "A estrutura for é usada para iterar sobre uma sequência, como uma lista ou uma string. A sintaxe básica é a seguinte:"
   ]
  },
  {
   "cell_type": "code",
   "execution_count": null,
   "metadata": {
    "colab": {
     "base_uri": "https://localhost:8080/"
    },
    "executionInfo": {
     "elapsed": 256,
     "status": "ok",
     "timestamp": 1690324330399,
     "user": {
      "displayName": "Gallileu Genesis",
      "userId": "10784296989533502530"
     },
     "user_tz": 180
    },
    "id": "YRbUVvr_K9Cx",
    "outputId": "854500cc-4f2a-4afb-84bb-c6657d692441"
   },
   "outputs": [],
   "source": []
  },
  {
   "cell_type": "markdown",
   "metadata": {
    "id": "6fjJG3xsITjl"
   },
   "source": [
    "Por exemplo, suponha que queremos escrever um código que imprime os elementos de uma lista:"
   ]
  },
  {
   "cell_type": "code",
   "execution_count": null,
   "metadata": {
    "colab": {
     "base_uri": "https://localhost:8080/"
    },
    "executionInfo": {
     "elapsed": 256,
     "status": "ok",
     "timestamp": 1690324368531,
     "user": {
      "displayName": "Gallileu Genesis",
      "userId": "10784296989533502530"
     },
     "user_tz": 180
    },
    "id": "wel3RwfeITjm",
    "outputId": "365dd151-9b9c-44a0-d5f6-f9a1354ce160"
   },
   "outputs": [],
   "source": []
  },
  {
   "cell_type": "code",
   "execution_count": null,
   "metadata": {
    "colab": {
     "base_uri": "https://localhost:8080/"
    },
    "executionInfo": {
     "elapsed": 273,
     "status": "ok",
     "timestamp": 1690324470305,
     "user": {
      "displayName": "Gallileu Genesis",
      "userId": "10784296989533502530"
     },
     "user_tz": 180
    },
    "id": "NoAdOXkCITjm",
    "outputId": "2efac43f-6865-42a9-84ac-56adb5e95129"
   },
   "outputs": [],
   "source": []
  },
  {
   "cell_type": "code",
   "execution_count": null,
   "metadata": {
    "colab": {
     "base_uri": "https://localhost:8080/"
    },
    "executionInfo": {
     "elapsed": 260,
     "status": "ok",
     "timestamp": 1690324624732,
     "user": {
      "displayName": "Gallileu Genesis",
      "userId": "10784296989533502530"
     },
     "user_tz": 180
    },
    "id": "TuQYrYuaMO3G",
    "outputId": "71e8be5b-0ecd-4686-85fb-8a9548bd93bb"
   },
   "outputs": [],
   "source": []
  },
  {
   "cell_type": "code",
   "execution_count": null,
   "metadata": {
    "colab": {
     "base_uri": "https://localhost:8080/"
    },
    "executionInfo": {
     "elapsed": 10,
     "status": "ok",
     "timestamp": 1690324725925,
     "user": {
      "displayName": "Gallileu Genesis",
      "userId": "10784296989533502530"
     },
     "user_tz": 180
    },
    "id": "V7qZNcUJMykD",
    "outputId": "ee6f68c0-af19-4ed7-c20c-e34d0f5f8b67"
   },
   "outputs": [],
   "source": []
  },
  {
   "cell_type": "markdown",
   "metadata": {
    "id": "UmFfYv98ITjm"
   },
   "source": [
    "### 3.3 - Instruções de controle de fluxo\n",
    "\n",
    "Existem também as instruções de controle de fluxo em Python, como o break e o continue, que permitem que você interrompa ou pule partes de um loop. Essas estruturas são úteis em muitas situações, como quando você quer sair de um loop assim que encontrar o resultado desejado.\n",
    "\n",
    "Dominar as estruturas de controle de fluxo é fundamental para programar em Python e em qualquer outra linguagem de programação. Elas permitem que você crie programas mais sofisticados e eficientes, que podem lidar com uma variedade de situações e condições."
   ]
  },
  {
   "cell_type": "markdown",
   "metadata": {
    "id": "AutCd0IzITjm"
   },
   "source": [
    "#### 3.3.1 Break\n",
    "A instrução break é usada para interromper a execução de um loop imediatamente, mesmo que a condição do loop ainda não tenha sido completamente avaliada. Quando o break é encontrado, o programa sai do loop e continua a execução a partir da próxima linha após o loop."
   ]
  },
  {
   "cell_type": "markdown",
   "metadata": {
    "id": "PeSc_-wYITjm"
   },
   "source": [
    "O loop abaixo em tese seria infinito, mas se a condição do if for verificada, o break é executado e conseguimos escapar do loop:"
   ]
  },
  {
   "cell_type": "code",
   "execution_count": null,
   "metadata": {
    "colab": {
     "base_uri": "https://localhost:8080/"
    },
    "executionInfo": {
     "elapsed": 29674,
     "status": "ok",
     "timestamp": 1690324943488,
     "user": {
      "displayName": "Gallileu Genesis",
      "userId": "10784296989533502530"
     },
     "user_tz": 180
    },
    "id": "NASvtF49ITjm",
    "outputId": "48a3c605-c3bb-41f2-f222-dc3e3852c25d"
   },
   "outputs": [],
   "source": []
  },
  {
   "cell_type": "markdown",
   "metadata": {
    "id": "GKKfKZ2dITjm"
   },
   "source": [
    "Um outro exemplo, seria:"
   ]
  },
  {
   "cell_type": "code",
   "execution_count": null,
   "metadata": {
    "colab": {
     "base_uri": "https://localhost:8080/"
    },
    "executionInfo": {
     "elapsed": 262,
     "status": "ok",
     "timestamp": 1690325084496,
     "user": {
      "displayName": "Gallileu Genesis",
      "userId": "10784296989533502530"
     },
     "user_tz": 180
    },
    "id": "Q88yahz8ITjm",
    "outputId": "95ec6e52-1e94-4e49-d979-b2a4ff53b5ae"
   },
   "outputs": [],
   "source": [
    "\n"
   ]
  },
  {
   "cell_type": "markdown",
   "metadata": {
    "id": "o6j-i4mmITjn"
   },
   "source": [
    "#### 3.3.2 Continue\n",
    "\n",
    "A instrução continue é usada para pular o restante do código dentro do loop e continuar para a próxima iteração. Quando o continue é encontrado, o programa ignora qualquer código restante dentro do bloco do loop e passa para a próxima iteração.\n"
   ]
  },
  {
   "cell_type": "code",
   "execution_count": null,
   "metadata": {
    "colab": {
     "base_uri": "https://localhost:8080/"
    },
    "executionInfo": {
     "elapsed": 274,
     "status": "ok",
     "timestamp": 1690325183567,
     "user": {
      "displayName": "Gallileu Genesis",
      "userId": "10784296989533502530"
     },
     "user_tz": 180
    },
    "id": "-8_L2mgPITjn",
    "outputId": "4a51c266-c6bf-4066-c780-0f5547a87264"
   },
   "outputs": [],
   "source": []
  },
  {
   "cell_type": "code",
   "execution_count": null,
   "metadata": {
    "colab": {
     "base_uri": "https://localhost:8080/"
    },
    "executionInfo": {
     "elapsed": 244,
     "status": "ok",
     "timestamp": 1690325319606,
     "user": {
      "displayName": "Gallileu Genesis",
      "userId": "10784296989533502530"
     },
     "user_tz": 180
    },
    "id": "qtuD1_SVO8hC",
    "outputId": "bcdd2e17-9aac-4acc-ca56-c53fc4d0bfae"
   },
   "outputs": [],
   "source": []
  },
  {
   "cell_type": "code",
   "execution_count": null,
   "metadata": {
    "colab": {
     "base_uri": "https://localhost:8080/"
    },
    "executionInfo": {
     "elapsed": 249,
     "status": "ok",
     "timestamp": 1690325345610,
     "user": {
      "displayName": "Gallileu Genesis",
      "userId": "10784296989533502530"
     },
     "user_tz": 180
    },
    "id": "xLulJthTPZxz",
    "outputId": "b221ceb4-10c4-4fa9-c0a7-821c9ebecd92"
   },
   "outputs": [],
   "source": []
  },
  {
   "cell_type": "markdown",
   "metadata": {
    "id": "OHDfR0zrITjn"
   },
   "source": [
    "### 3.4 - Exercícios"
   ]
  },
  {
   "cell_type": "markdown",
   "metadata": {
    "id": "UGIDpItKITjn"
   },
   "source": [
    "**Exercício 1:** Faça um programa que peça ao usuário a idade e verifique se a pessoa já pode votar (idade maior ou igual a 16 anos)."
   ]
  },
  {
   "cell_type": "code",
   "execution_count": null,
   "metadata": {
    "id": "hs0_IL5sITjn"
   },
   "outputs": [],
   "source": []
  },
  {
   "cell_type": "markdown",
   "metadata": {
    "id": "3LHffw64ITjn"
   },
   "source": [
    "**Exercício 2:** Escreva um programa que solicite ao usuário um número e exiba se esse número é positivo, negativo ou igual a zero."
   ]
  },
  {
   "cell_type": "code",
   "execution_count": null,
   "metadata": {
    "id": "oTGuoFYEITjn"
   },
   "outputs": [],
   "source": []
  },
  {
   "cell_type": "markdown",
   "metadata": {
    "id": "UDWsjod3ITjn"
   },
   "source": [
    "**Exercício 3:** Escreva um programa que solicite ao usuário um número inteiro positivo e faça uma contagem regressiva a partir desse número até zero. O programa deve exibir os números na tela enquanto realiza a contagem."
   ]
  },
  {
   "cell_type": "code",
   "execution_count": null,
   "metadata": {
    "id": "5SQDwd7mITjn"
   },
   "outputs": [],
   "source": []
  },
  {
   "cell_type": "markdown",
   "metadata": {
    "id": "Y7t3gUb2ITjn"
   },
   "source": [
    "**Exercício 4:** Escreva um programa que exiba os números pares de 0 a 20 usando um loop while."
   ]
  },
  {
   "cell_type": "code",
   "execution_count": null,
   "metadata": {
    "id": "PpQBiJsNITjo"
   },
   "outputs": [],
   "source": []
  },
  {
   "cell_type": "markdown",
   "metadata": {
    "id": "DaNLJP1bITjo"
   },
   "source": [
    "**Exercício 5:** Escreva um programa que exiba os números pares de 0 a 20 usando um loop for."
   ]
  },
  {
   "cell_type": "code",
   "execution_count": null,
   "metadata": {
    "id": "dHszR6_HITjo"
   },
   "outputs": [],
   "source": []
  },
  {
   "cell_type": "markdown",
   "metadata": {
    "id": "2Yl0TLnRITjo"
   },
   "source": [
    "**Exercício 6:** Crie um programa que calcule a soma dos números de 1 a 100 (1+2+3+...+100) usando um loop for."
   ]
  },
  {
   "cell_type": "code",
   "execution_count": null,
   "metadata": {
    "colab": {
     "base_uri": "https://localhost:8080/"
    },
    "executionInfo": {
     "elapsed": 270,
     "status": "ok",
     "timestamp": 1690328385180,
     "user": {
      "displayName": "Gallileu Genesis",
      "userId": "10784296989533502530"
     },
     "user_tz": 180
    },
    "id": "8kNIk_5_ITjo",
    "outputId": "70f941c7-3ead-4263-d342-4db4718ff9ad"
   },
   "outputs": [],
   "source": []
  },
  {
   "cell_type": "code",
   "execution_count": null,
   "metadata": {
    "colab": {
     "base_uri": "https://localhost:8080/"
    },
    "executionInfo": {
     "elapsed": 2,
     "status": "ok",
     "timestamp": 1690328418129,
     "user": {
      "displayName": "Gallileu Genesis",
      "userId": "10784296989533502530"
     },
     "user_tz": 180
    },
    "id": "1TVSL_ZIbJy-",
    "outputId": "76cded98-5616-44b5-bac6-3dd5627088dc"
   },
   "outputs": [],
   "source": []
  },
  {
   "cell_type": "code",
   "execution_count": null,
   "metadata": {
    "colab": {
     "base_uri": "https://localhost:8080/"
    },
    "executionInfo": {
     "elapsed": 259,
     "status": "ok",
     "timestamp": 1690328431074,
     "user": {
      "displayName": "Gallileu Genesis",
      "userId": "10784296989533502530"
     },
     "user_tz": 180
    },
    "id": "KWNthluebNAT",
    "outputId": "b35187c7-972f-4361-8d79-34aca65f0d46"
   },
   "outputs": [],
   "source": []
  },
  {
   "cell_type": "code",
   "execution_count": null,
   "metadata": {
    "colab": {
     "base_uri": "https://localhost:8080/"
    },
    "executionInfo": {
     "elapsed": 2,
     "status": "ok",
     "timestamp": 1690328445191,
     "user": {
      "displayName": "Gallileu Genesis",
      "userId": "10784296989533502530"
     },
     "user_tz": 180
    },
    "id": "7DOnf3jXbRQo",
    "outputId": "5c8a99dc-7cf1-4ca5-be31-de9898197d66"
   },
   "outputs": [],
   "source": []
  },
  {
   "cell_type": "code",
   "execution_count": null,
   "metadata": {
    "colab": {
     "base_uri": "https://localhost:8080/"
    },
    "executionInfo": {
     "elapsed": 240,
     "status": "ok",
     "timestamp": 1690328469697,
     "user": {
      "displayName": "Gallileu Genesis",
      "userId": "10784296989533502530"
     },
     "user_tz": 180
    },
    "id": "2BkvLRCpbXmm",
    "outputId": "e8a20023-15d7-43cc-b178-7a5923eea2eb"
   },
   "outputs": [],
   "source": []
  },
  {
   "cell_type": "markdown",
   "metadata": {
    "id": "-Ud18p93ITjo"
   },
   "source": [
    "**Exercício 7:** Escreva um programa que imprima os números de 1 a 10, exceto o número 5. Use a instrução \"continue\" para pular o número 5."
   ]
  },
  {
   "cell_type": "code",
   "execution_count": null,
   "metadata": {
    "id": "LOr_BeAYITjo"
   },
   "outputs": [],
   "source": []
  },
  {
   "cell_type": "markdown",
   "metadata": {
    "id": "fvB9LWi9ITjo"
   },
   "source": [
    "**Exercício 8:** Escreva um programa que exiba os números de 1 a 20, mas interrompa o loop quando encontrar um número divisível por 7. Use a instrução \"break\" para sair do loop quando essa condição for atendida."
   ]
  },
  {
   "cell_type": "code",
   "execution_count": null,
   "metadata": {
    "id": "Bb3kxDIXITjo"
   },
   "outputs": [],
   "source": []
  },
  {
   "cell_type": "markdown",
   "metadata": {
    "id": "6BvpUgk9ITjo"
   },
   "source": [
    "## 4 - Estruturas de Dados:\n",
    "\n",
    "As estruturas de dados são fundamentais para organizar e manipular informações em um programa de forma eficiente. Compreender o funcionamento e a utilização dessas estruturas é essencial para o desenvolvimento de aplicações robustas e versáteis."
   ]
  },
  {
   "cell_type": "markdown",
   "metadata": {
    "id": "IBjZVGsNITjp"
   },
   "source": [
    "### 4.1 Listas\n",
    "\n",
    "Listas são estruturas de dados versáteis que permitem armazenar uma coleção ordenada de elementos em uma única variável.\n",
    "\n",
    "Características das listas:\n",
    "- Listas são mutáveis, ou seja, seus elementos podem ser modificados após a criação.\n",
    "- São definidas utilizando colchetes ([]).\n",
    "- Os elementos em uma lista podem ser de tipos diferentes."
   ]
  },
  {
   "cell_type": "markdown",
   "metadata": {
    "id": "TdgRkigdITjp"
   },
   "source": [
    "Exemplo de criação de uma lista:"
   ]
  },
  {
   "cell_type": "code",
   "execution_count": null,
   "metadata": {
    "executionInfo": {
     "elapsed": 252,
     "status": "ok",
     "timestamp": 1690325598943,
     "user": {
      "displayName": "Gallileu Genesis",
      "userId": "10784296989533502530"
     },
     "user_tz": 180
    },
    "id": "2ox0F40_ITjp"
   },
   "outputs": [],
   "source": []
  },
  {
   "cell_type": "markdown",
   "metadata": {
    "id": "Y4wntTCsITjp"
   },
   "source": [
    "#### 4.1.2 Acesso e manipulação de elementos em Listas\n",
    "\n",
    "Para acessar elementos em uma lista, utilizamos índices numéricos, começando por 0 para o primeiro elemento (lista[0]).\n",
    "\n",
    "Exemplo de acesso a elementos:"
   ]
  },
  {
   "cell_type": "code",
   "execution_count": null,
   "metadata": {
    "executionInfo": {
     "elapsed": 252,
     "status": "ok",
     "timestamp": 1690325635493,
     "user": {
      "displayName": "Gallileu Genesis",
      "userId": "10784296989533502530"
     },
     "user_tz": 180
    },
    "id": "zH1sizToITjp"
   },
   "outputs": [],
   "source": []
  },
  {
   "cell_type": "code",
   "execution_count": null,
   "metadata": {
    "colab": {
     "base_uri": "https://localhost:8080/",
     "height": 38
    },
    "executionInfo": {
     "elapsed": 260,
     "status": "ok",
     "timestamp": 1690325735128,
     "user": {
      "displayName": "Gallileu Genesis",
      "userId": "10784296989533502530"
     },
     "user_tz": 180
    },
    "id": "Ap8kztfnQ0mL",
    "outputId": "12fb9b1b-38bd-4160-be78-072e5af00726"
   },
   "outputs": [],
   "source": []
  },
  {
   "cell_type": "code",
   "execution_count": null,
   "metadata": {
    "colab": {
     "base_uri": "https://localhost:8080/",
     "height": 38
    },
    "executionInfo": {
     "elapsed": 275,
     "status": "ok",
     "timestamp": 1690325755115,
     "user": {
      "displayName": "Gallileu Genesis",
      "userId": "10784296989533502530"
     },
     "user_tz": 180
    },
    "id": "Or7kjBA6Q_s7",
    "outputId": "91af6309-00a2-4ff5-817c-aae5244085d7"
   },
   "outputs": [],
   "source": []
  },
  {
   "cell_type": "code",
   "execution_count": null,
   "metadata": {
    "colab": {
     "base_uri": "https://localhost:8080/",
     "height": 38
    },
    "executionInfo": {
     "elapsed": 247,
     "status": "ok",
     "timestamp": 1690325775087,
     "user": {
      "displayName": "Gallileu Genesis",
      "userId": "10784296989533502530"
     },
     "user_tz": 180
    },
    "id": "elPojWHVRE9t",
    "outputId": "46786a10-96ef-45d9-f6f6-aec69a4ffd0c"
   },
   "outputs": [],
   "source": []
  },
  {
   "cell_type": "code",
   "execution_count": null,
   "metadata": {
    "colab": {
     "base_uri": "https://localhost:8080/",
     "height": 38
    },
    "executionInfo": {
     "elapsed": 290,
     "status": "ok",
     "timestamp": 1690325803542,
     "user": {
      "displayName": "Gallileu Genesis",
      "userId": "10784296989533502530"
     },
     "user_tz": 180
    },
    "id": "ar2w6Xa8RKla",
    "outputId": "d216141e-07ef-45e1-d5f5-93b085916d35"
   },
   "outputs": [],
   "source": []
  },
  {
   "cell_type": "markdown",
   "metadata": {
    "id": "SxwkftThITjp"
   },
   "source": [
    "Para alterar elementos em uma lista, basta atribuir um novo valor ao índice desejado.\n",
    "\n",
    "Exemplo de manipulação de elementos:"
   ]
  },
  {
   "cell_type": "code",
   "execution_count": null,
   "metadata": {
    "colab": {
     "base_uri": "https://localhost:8080/"
    },
    "executionInfo": {
     "elapsed": 4,
     "status": "ok",
     "timestamp": 1690325876707,
     "user": {
      "displayName": "Gallileu Genesis",
      "userId": "10784296989533502530"
     },
     "user_tz": 180
    },
    "id": "6DoGMU0_ITjp",
    "outputId": "52d65f47-9931-4918-c5d1-232820c3585f"
   },
   "outputs": [],
   "source": []
  },
  {
   "cell_type": "code",
   "execution_count": null,
   "metadata": {
    "colab": {
     "base_uri": "https://localhost:8080/"
    },
    "executionInfo": {
     "elapsed": 5,
     "status": "ok",
     "timestamp": 1690325954964,
     "user": {
      "displayName": "Gallileu Genesis",
      "userId": "10784296989533502530"
     },
     "user_tz": 180
    },
    "id": "cCEx5tUAITjq",
    "outputId": "c1314e30-9bfb-4007-9df9-3a0fe5b4bff1"
   },
   "outputs": [],
   "source": []
  },
  {
   "cell_type": "code",
   "execution_count": null,
   "metadata": {
    "colab": {
     "base_uri": "https://localhost:8080/"
    },
    "executionInfo": {
     "elapsed": 291,
     "status": "ok",
     "timestamp": 1690325998015,
     "user": {
      "displayName": "Gallileu Genesis",
      "userId": "10784296989533502530"
     },
     "user_tz": 180
    },
    "id": "5lR03M8EITjq",
    "outputId": "6c91dc2f-ec0e-41de-d802-ef4454e6087c"
   },
   "outputs": [],
   "source": []
  },
  {
   "cell_type": "code",
   "execution_count": null,
   "metadata": {
    "colab": {
     "base_uri": "https://localhost:8080/"
    },
    "executionInfo": {
     "elapsed": 305,
     "status": "ok",
     "timestamp": 1690326059958,
     "user": {
      "displayName": "Gallileu Genesis",
      "userId": "10784296989533502530"
     },
     "user_tz": 180
    },
    "id": "rKkOwklSITjq",
    "outputId": "e5448f8c-b24b-449e-b91b-e9187f759c58"
   },
   "outputs": [],
   "source": []
  },
  {
   "cell_type": "markdown",
   "metadata": {
    "id": "R8yUIATlITjq"
   },
   "source": [
    "Usando loops:"
   ]
  },
  {
   "cell_type": "code",
   "execution_count": null,
   "metadata": {
    "executionInfo": {
     "elapsed": 278,
     "status": "ok",
     "timestamp": 1690326175333,
     "user": {
      "displayName": "Gallileu Genesis",
      "userId": "10784296989533502530"
     },
     "user_tz": 180
    },
    "id": "Y8HOZV0VITjq",
    "scrolled": true
   },
   "outputs": [],
   "source": []
  },
  {
   "cell_type": "code",
   "execution_count": null,
   "metadata": {
    "colab": {
     "base_uri": "https://localhost:8080/"
    },
    "executionInfo": {
     "elapsed": 3,
     "status": "ok",
     "timestamp": 1690326185741,
     "user": {
      "displayName": "Gallileu Genesis",
      "userId": "10784296989533502530"
     },
     "user_tz": 180
    },
    "id": "MN9d_ojVITjq",
    "outputId": "1c707b50-b975-4180-c5fa-22c8fad02e42"
   },
   "outputs": [],
   "source": []
  },
  {
   "cell_type": "code",
   "execution_count": null,
   "metadata": {
    "colab": {
     "base_uri": "https://localhost:8080/"
    },
    "executionInfo": {
     "elapsed": 246,
     "status": "ok",
     "timestamp": 1690326380709,
     "user": {
      "displayName": "Gallileu Genesis",
      "userId": "10784296989533502530"
     },
     "user_tz": 180
    },
    "id": "QDm4fwmjITjq",
    "outputId": "1193fa7c-1922-45ce-a993-0d5b40daab8a"
   },
   "outputs": [],
   "source": []
  },
  {
   "cell_type": "code",
   "execution_count": null,
   "metadata": {
    "colab": {
     "base_uri": "https://localhost:8080/"
    },
    "executionInfo": {
     "elapsed": 253,
     "status": "ok",
     "timestamp": 1690326476213,
     "user": {
      "displayName": "Gallileu Genesis",
      "userId": "10784296989533502530"
     },
     "user_tz": 180
    },
    "id": "Vljd_PP6ITjq",
    "outputId": "3bb523ae-72dd-4259-e0f4-645eb80a0650"
   },
   "outputs": [],
   "source": []
  },
  {
   "cell_type": "markdown",
   "metadata": {
    "id": "fiG907UFITjq"
   },
   "source": [
    "### 4.2 Tuplas em Python:\n",
    "\n",
    "Tuplas são estruturas de dados **imutáveis** que permitem armazenar uma coleção ordenada de elementos em uma única variável.\n",
    "\n",
    "- Tuplas são definidas utilizando parênteses ()\n",
    "- Os elementos em uma tupla podem ser de tipos diferentes\n",
    "- Os elementos em uma tupla NÃO podem ser modificados"
   ]
  },
  {
   "cell_type": "markdown",
   "metadata": {
    "id": "rZbUeHhaITjq"
   },
   "source": [
    "Exemplo de criação de uma tupla:"
   ]
  },
  {
   "cell_type": "code",
   "execution_count": null,
   "metadata": {
    "executionInfo": {
     "elapsed": 273,
     "status": "ok",
     "timestamp": 1690326629601,
     "user": {
      "displayName": "Gallileu Genesis",
      "userId": "10784296989533502530"
     },
     "user_tz": 180
    },
    "id": "ibeCDz1bITjq"
   },
   "outputs": [],
   "source": []
  },
  {
   "cell_type": "markdown",
   "metadata": {
    "id": "ogcQRLuEITjr"
   },
   "source": [
    "#### 4.2.1 Acesso e Manipulação de elementos em Tuplas:\n",
    "Para acessar elementos em uma tupla, também utilizamos índices numéricos, começando por 0 para o primeiro elemento (tupla[0]).\n",
    "\n",
    "Exemplo de acesso a elementos:"
   ]
  },
  {
   "cell_type": "code",
   "execution_count": null,
   "metadata": {
    "colab": {
     "base_uri": "https://localhost:8080/"
    },
    "executionInfo": {
     "elapsed": 1179,
     "status": "ok",
     "timestamp": 1690326669684,
     "user": {
      "displayName": "Gallileu Genesis",
      "userId": "10784296989533502530"
     },
     "user_tz": 180
    },
    "id": "HW8x6mnGITjr",
    "outputId": "60206774-4d00-4135-a265-d3229c4311bc",
    "scrolled": false
   },
   "outputs": [],
   "source": []
  },
  {
   "cell_type": "code",
   "execution_count": null,
   "metadata": {
    "colab": {
     "base_uri": "https://localhost:8080/"
    },
    "executionInfo": {
     "elapsed": 258,
     "status": "ok",
     "timestamp": 1690326678249,
     "user": {
      "displayName": "Gallileu Genesis",
      "userId": "10784296989533502530"
     },
     "user_tz": 180
    },
    "id": "EE_-9_JrUijf",
    "outputId": "ff099d86-06ea-49ce-8d7d-2bed183c972e"
   },
   "outputs": [],
   "source": []
  },
  {
   "cell_type": "markdown",
   "metadata": {
    "id": "GG4pqW4UITjr"
   },
   "source": [
    "Concatenação"
   ]
  },
  {
   "cell_type": "code",
   "execution_count": null,
   "metadata": {
    "colab": {
     "base_uri": "https://localhost:8080/"
    },
    "executionInfo": {
     "elapsed": 263,
     "status": "ok",
     "timestamp": 1690326748082,
     "user": {
      "displayName": "Gallileu Genesis",
      "userId": "10784296989533502530"
     },
     "user_tz": 180
    },
    "id": "E-JcL8I6ITjr",
    "outputId": "f6456d77-5eee-4ba1-a1e8-10dd8e4b6757"
   },
   "outputs": [],
   "source": []
  },
  {
   "cell_type": "markdown",
   "metadata": {
    "id": "BG9-67EkITjr"
   },
   "source": [
    "Usando loops:"
   ]
  },
  {
   "cell_type": "code",
   "execution_count": null,
   "metadata": {
    "colab": {
     "base_uri": "https://localhost:8080/"
    },
    "executionInfo": {
     "elapsed": 3,
     "status": "ok",
     "timestamp": 1690326790966,
     "user": {
      "displayName": "Gallileu Genesis",
      "userId": "10784296989533502530"
     },
     "user_tz": 180
    },
    "id": "680xlPTiITjr",
    "outputId": "2880844e-4a5a-481f-b58f-3f1c2817683c"
   },
   "outputs": [],
   "source": []
  },
  {
   "cell_type": "code",
   "execution_count": null,
   "metadata": {
    "colab": {
     "base_uri": "https://localhost:8080/"
    },
    "executionInfo": {
     "elapsed": 254,
     "status": "ok",
     "timestamp": 1690326843104,
     "user": {
      "displayName": "Gallileu Genesis",
      "userId": "10784296989533502530"
     },
     "user_tz": 180
    },
    "id": "rYTYQEECITjr",
    "outputId": "5499eba1-6d0b-4f64-a5a2-171233cbcd39"
   },
   "outputs": [],
   "source": []
  },
  {
   "cell_type": "code",
   "execution_count": null,
   "metadata": {
    "colab": {
     "base_uri": "https://localhost:8080/"
    },
    "executionInfo": {
     "elapsed": 263,
     "status": "ok",
     "timestamp": 1690326897000,
     "user": {
      "displayName": "Gallileu Genesis",
      "userId": "10784296989533502530"
     },
     "user_tz": 180
    },
    "id": "_AzEWynPITjr",
    "outputId": "15945a19-c763-498f-b7e2-4408abdd320c"
   },
   "outputs": [],
   "source": []
  },
  {
   "cell_type": "code",
   "execution_count": null,
   "metadata": {
    "id": "75pcSQJhXEA4"
   },
   "outputs": [],
   "source": []
  },
  {
   "cell_type": "markdown",
   "metadata": {
    "id": "7qh0CNFpITjr"
   },
   "source": [
    "**Nota desnecessária:** Diferentemente das listas, as tuplas são imutáveis, o que significa que seus elementos não podem ser alterados após a criação."
   ]
  },
  {
   "cell_type": "markdown",
   "metadata": {
    "id": "DfCKF6NgITjr"
   },
   "source": [
    "### 4.3 Dicionários em Python:\n",
    "Dicionários são estruturas de dados que permitem armazenar elementos em um formato de chave-valor. Cada elemento (valor) é associado a uma chave exclusiva que permite acessá-lo de forma rápida.\n",
    "\n",
    "Dicionários são definidos utilizando chaves ({}) com pares chave-valor separados por dois pontos (:).\n",
    "As chaves devem ser únicas e imutáveis, geralmente strings ou números."
   ]
  },
  {
   "cell_type": "markdown",
   "metadata": {
    "id": "e-Ecx9vhITjr"
   },
   "source": [
    "Exemplo de criação de um dicionário:"
   ]
  },
  {
   "cell_type": "code",
   "execution_count": null,
   "metadata": {
    "executionInfo": {
     "elapsed": 262,
     "status": "ok",
     "timestamp": 1690327098458,
     "user": {
      "displayName": "Gallileu Genesis",
      "userId": "10784296989533502530"
     },
     "user_tz": 180
    },
    "id": "eNOGMkXJITjr"
   },
   "outputs": [],
   "source": []
  },
  {
   "cell_type": "code",
   "execution_count": null,
   "metadata": {
    "executionInfo": {
     "elapsed": 2,
     "status": "ok",
     "timestamp": 1690327213006,
     "user": {
      "displayName": "Gallileu Genesis",
      "userId": "10784296989533502530"
     },
     "user_tz": 180
    },
    "id": "4g-wyqZ-ITjs"
   },
   "outputs": [],
   "source": []
  },
  {
   "cell_type": "code",
   "execution_count": null,
   "metadata": {
    "colab": {
     "base_uri": "https://localhost:8080/"
    },
    "executionInfo": {
     "elapsed": 6,
     "status": "ok",
     "timestamp": 1690327214538,
     "user": {
      "displayName": "Gallileu Genesis",
      "userId": "10784296989533502530"
     },
     "user_tz": 180
    },
    "id": "LFFQeWddWkWY",
    "outputId": "dae76d3f-f57a-4863-fe5c-3125dc7ddc8b"
   },
   "outputs": [],
   "source": []
  },
  {
   "cell_type": "markdown",
   "metadata": {
    "id": "ad6QW7TbITjs"
   },
   "source": [
    "#### 4.3.1 Acesso e Manipulação de elementos em Dicionários:\n",
    "Para acessar elementos em um dicionário, utilizamos as chaves como índices.\n",
    "\n",
    "Exemplo de acesso a elementos:"
   ]
  },
  {
   "cell_type": "code",
   "execution_count": null,
   "metadata": {
    "colab": {
     "base_uri": "https://localhost:8080/"
    },
    "executionInfo": {
     "elapsed": 243,
     "status": "ok",
     "timestamp": 1690327467620,
     "user": {
      "displayName": "Gallileu Genesis",
      "userId": "10784296989533502530"
     },
     "user_tz": 180
    },
    "id": "f4-pQ2wOITjs",
    "outputId": "37a9c8ad-6d37-4705-f8f8-58d2a2348148"
   },
   "outputs": [],
   "source": []
  },
  {
   "cell_type": "markdown",
   "metadata": {
    "id": "jiUIw08HITjs"
   },
   "source": [
    "Para adicionar, atualizar ou remover elementos de um dicionário, basta atribuir um novo valor a uma chave ou utilizar o método del.\n",
    "\n",
    "Exemplo de manipulação de elementos:"
   ]
  },
  {
   "cell_type": "code",
   "execution_count": null,
   "metadata": {
    "executionInfo": {
     "elapsed": 262,
     "status": "ok",
     "timestamp": 1690327675287,
     "user": {
      "displayName": "Gallileu Genesis",
      "userId": "10784296989533502530"
     },
     "user_tz": 180
    },
    "id": "-3xgiKvWYQbs"
   },
   "outputs": [],
   "source": []
  },
  {
   "cell_type": "code",
   "execution_count": null,
   "metadata": {
    "colab": {
     "base_uri": "https://localhost:8080/"
    },
    "executionInfo": {
     "elapsed": 3,
     "status": "ok",
     "timestamp": 1690327683973,
     "user": {
      "displayName": "Gallileu Genesis",
      "userId": "10784296989533502530"
     },
     "user_tz": 180
    },
    "id": "_7tIspagYYiu",
    "outputId": "2d213fe4-73dd-4f8a-818f-bb8da6c4c3ff"
   },
   "outputs": [],
   "source": []
  },
  {
   "cell_type": "code",
   "execution_count": null,
   "metadata": {
    "colab": {
     "base_uri": "https://localhost:8080/"
    },
    "executionInfo": {
     "elapsed": 257,
     "status": "ok",
     "timestamp": 1690327742439,
     "user": {
      "displayName": "Gallileu Genesis",
      "userId": "10784296989533502530"
     },
     "user_tz": 180
    },
    "id": "NrmJjhKKYa5N",
    "outputId": "6fb079b9-7cf5-4256-8d07-c1e21ae46e5a"
   },
   "outputs": [],
   "source": []
  },
  {
   "cell_type": "code",
   "execution_count": null,
   "metadata": {
    "colab": {
     "base_uri": "https://localhost:8080/"
    },
    "executionInfo": {
     "elapsed": 243,
     "status": "ok",
     "timestamp": 1690327626634,
     "user": {
      "displayName": "Gallileu Genesis",
      "userId": "10784296989533502530"
     },
     "user_tz": 180
    },
    "id": "tfPzM4SEITjs",
    "outputId": "53d96919-0eca-4002-f1c8-8f5eece4fc57"
   },
   "outputs": [],
   "source": []
  },
  {
   "cell_type": "markdown",
   "metadata": {
    "id": "jsBm6FVYITjs"
   },
   "source": [
    "Usando loops:"
   ]
  },
  {
   "cell_type": "code",
   "execution_count": null,
   "metadata": {
    "colab": {
     "base_uri": "https://localhost:8080/"
    },
    "executionInfo": {
     "elapsed": 3,
     "status": "ok",
     "timestamp": 1690327797811,
     "user": {
      "displayName": "Gallileu Genesis",
      "userId": "10784296989533502530"
     },
     "user_tz": 180
    },
    "id": "4ZsQyYjCITjs",
    "outputId": "5f76f5bc-b124-4fc0-9fe0-e40e793bda63",
    "scrolled": true
   },
   "outputs": [],
   "source": []
  },
  {
   "cell_type": "code",
   "execution_count": null,
   "metadata": {
    "colab": {
     "base_uri": "https://localhost:8080/"
    },
    "executionInfo": {
     "elapsed": 259,
     "status": "ok",
     "timestamp": 1690327864104,
     "user": {
      "displayName": "Gallileu Genesis",
      "userId": "10784296989533502530"
     },
     "user_tz": 180
    },
    "id": "TzJBArc7ITjs",
    "outputId": "c7ab39ae-5960-4575-8370-837d84c0ccc5",
    "scrolled": true
   },
   "outputs": [],
   "source": [
    "\n"
   ]
  },
  {
   "cell_type": "code",
   "execution_count": null,
   "metadata": {
    "colab": {
     "base_uri": "https://localhost:8080/"
    },
    "executionInfo": {
     "elapsed": 251,
     "status": "ok",
     "timestamp": 1690327921920,
     "user": {
      "displayName": "Gallileu Genesis",
      "userId": "10784296989533502530"
     },
     "user_tz": 180
    },
    "id": "HDgt_ev-ITjs",
    "outputId": "ef20dce5-7741-4c48-c9af-877dd8e9e6ab"
   },
   "outputs": [],
   "source": []
  },
  {
   "cell_type": "code",
   "execution_count": null,
   "metadata": {
    "colab": {
     "base_uri": "https://localhost:8080/"
    },
    "executionInfo": {
     "elapsed": 6,
     "status": "ok",
     "timestamp": 1690328042501,
     "user": {
      "displayName": "Gallileu Genesis",
      "userId": "10784296989533502530"
     },
     "user_tz": 180
    },
    "id": "4vbgD8nfZZcP",
    "outputId": "b9d64cb4-9d66-4745-ef7b-61a6611572c8"
   },
   "outputs": [],
   "source": []
  },
  {
   "cell_type": "markdown",
   "metadata": {
    "id": "iCifkjPQITjt"
   },
   "source": [
    "### 4.4 - Exercícios:"
   ]
  },
  {
   "cell_type": "markdown",
   "metadata": {
    "id": "XvY_xWNDITjt"
   },
   "source": [
    "#### Exercício 1:\n",
    "    a) Crie uma lista vazia chamada \"numeros\". Em seguida, adicione os números de 1 a 10 a essa lista utilizando um loop.\n",
    "    b) Dada a lista \"frutas\" abaixo, remova o último elemento da lista e adicione \"morango\" no seu lugar.\n",
    "    frutas = [\"maçã\", \"banana\", \"laranja\", \"abacaxi\"]\n",
    "    c) Dada a lista \"notas\" com as notas de um estudante, calcule a média aritmética das notas.\n",
    "    notas = [8.5, 7.2, 6.8, 9.0, 7.5]"
   ]
  },
  {
   "cell_type": "code",
   "execution_count": null,
   "metadata": {
    "colab": {
     "base_uri": "https://localhost:8080/"
    },
    "executionInfo": {
     "elapsed": 253,
     "status": "ok",
     "timestamp": 1690328654324,
     "user": {
      "displayName": "Gallileu Genesis",
      "userId": "10784296989533502530"
     },
     "user_tz": 180
    },
    "id": "rOvdMlSIITjt",
    "outputId": "aabe6ebe-1258-418b-bf2e-ccb9e2298177"
   },
   "outputs": [],
   "source": []
  },
  {
   "cell_type": "code",
   "execution_count": null,
   "metadata": {
    "id": "AGEpOpNAITjt"
   },
   "outputs": [],
   "source": []
  },
  {
   "cell_type": "code",
   "execution_count": null,
   "metadata": {
    "id": "k6ws9B9sITjt"
   },
   "outputs": [],
   "source": []
  },
  {
   "cell_type": "markdown",
   "metadata": {
    "id": "1bXt0Lo-ITjt"
   },
   "source": [
    "#### Exercício 2:\n",
    "    a) Crie uma lista com os números de 1 a 10. Acesse o primeiro e o último elemento da lista.\n",
    "    b) Dada a lista \"nomes\" abaixo, substitua o segundo elemento por \"Maria\".\n",
    "    nomes = [\"João\", \"Pedro\", \"Carlos\", \"Ana\"]"
   ]
  },
  {
   "cell_type": "code",
   "execution_count": null,
   "metadata": {
    "id": "xNDS5uKtITjt"
   },
   "outputs": [],
   "source": []
  },
  {
   "cell_type": "code",
   "execution_count": null,
   "metadata": {
    "id": "WBI3_a8aITjt"
   },
   "outputs": [],
   "source": []
  },
  {
   "cell_type": "markdown",
   "metadata": {
    "id": "4jlyWyBsITjt"
   },
   "source": [
    "#### Exercício 3:\n",
    "    a) Dada a tupla \"coordenadas\" abaixo, extraia os valores de latitude e longitude em variáveis separadas.\n",
    "    coordenadas = (40.7128, -74.0060)\n",
    "    b) Concatene as tuplas \"tupla1\" e \"tupla2\" abaixo em uma única tupla chamada \"tupla_concatenada\".\n",
    "    tupla1 = (1, 2, 3)\n",
    "    tupla2 = (4, 5, 6)"
   ]
  },
  {
   "cell_type": "code",
   "execution_count": null,
   "metadata": {
    "id": "MaFxzLq_ITjt",
    "scrolled": true
   },
   "outputs": [],
   "source": []
  },
  {
   "cell_type": "code",
   "execution_count": null,
   "metadata": {
    "id": "gOveJ0_-ITjt"
   },
   "outputs": [],
   "source": []
  },
  {
   "cell_type": "markdown",
   "metadata": {
    "id": "YOMn0hqdITjt"
   },
   "source": [
    "#### Exercício 4:\n",
    "    a) Crie um dicionário vazio chamado \"contatos\". Adicione três contatos (nome e e-mail) ao dicionário.\n",
    "    b) Crie um dicionário chamado \"pessoa\" com as chaves \"nome\", \"idade\" e \"cidade\", preenchendo com seus respectivos valores.\n",
    "    c) Dado o dicionário \"pontuacoes\" abaixo, atualize a pontuação de \"Maria\" para 95.\n",
    "    pontuacoes = {\"João\": 85, \"Maria\": 90, \"Carlos\": 88}\n",
    "    d) Imprima todas as chaves do dicionário \"estoque_produtos\" abaixo.\n",
    "    estoque_produtos = {\"arroz\": 10, \"feijão\": 5, \"macarrão\": 8, \"óleo\": 15}"
   ]
  },
  {
   "cell_type": "code",
   "execution_count": null,
   "metadata": {
    "id": "wdegunYxITju"
   },
   "outputs": [],
   "source": []
  },
  {
   "cell_type": "code",
   "execution_count": null,
   "metadata": {
    "executionInfo": {
     "elapsed": 384,
     "status": "ok",
     "timestamp": 1690329084224,
     "user": {
      "displayName": "Gallileu Genesis",
      "userId": "10784296989533502530"
     },
     "user_tz": 180
    },
    "id": "P1j__onLITju"
   },
   "outputs": [],
   "source": []
  },
  {
   "cell_type": "code",
   "execution_count": null,
   "metadata": {
    "colab": {
     "base_uri": "https://localhost:8080/"
    },
    "executionInfo": {
     "elapsed": 7,
     "status": "ok",
     "timestamp": 1690329084471,
     "user": {
      "displayName": "Gallileu Genesis",
      "userId": "10784296989533502530"
     },
     "user_tz": 180
    },
    "id": "7lw0T-toITju",
    "outputId": "32219496-9513-4bf4-b6b0-9baabfaf8dde"
   },
   "outputs": [],
   "source": []
  },
  {
   "cell_type": "code",
   "execution_count": null,
   "metadata": {
    "id": "jUHSApp-ITju"
   },
   "outputs": [],
   "source": []
  },
  {
   "cell_type": "code",
   "execution_count": null,
   "metadata": {
    "id": "sOvWHJeZITju"
   },
   "outputs": [],
   "source": []
  }
 ],
 "metadata": {
  "colab": {
   "provenance": []
  },
  "kernelspec": {
   "display_name": "Python 3 (ipykernel)",
   "language": "python",
   "name": "python3"
  },
  "language_info": {
   "codemirror_mode": {
    "name": "ipython",
    "version": 3
   },
   "file_extension": ".py",
   "mimetype": "text/x-python",
   "name": "python",
   "nbconvert_exporter": "python",
   "pygments_lexer": "ipython3",
   "version": "3.9.12"
  }
 },
 "nbformat": 4,
 "nbformat_minor": 1
}
